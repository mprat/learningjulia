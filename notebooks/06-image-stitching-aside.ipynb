{
 "cells": [
  {
   "cell_type": "markdown",
   "metadata": {},
   "source": [
    "# Visualizing circles around feature points\n",
    "\n",
    "As a quick aside, let's implement a function to draw circles around a feature point, rather than just a single point. The idea would that for every True value in the mask, I look in a neighborhood around that mask, and for every point that is equal to the radius of the circle I want to draw, \n",
    "\n",
    "To do this I had to learn about `StaticArrays` and `CartesianRange` types.\n",
    "\n",
    "Basically, a "
   ]
  },
  {
   "cell_type": "code",
   "execution_count": null,
   "metadata": {
    "collapsed": true
   },
   "outputs": [],
   "source": [
    "using StaticArrays;"
   ]
  },
  {
   "cell_type": "code",
   "execution_count": null,
   "metadata": {
    "collapsed": true
   },
   "outputs": [],
   "source": [
    "# radius in pixels\n",
    "function draw_circles(image::AbstractArray, mask::AbstractArray{Bool}; c::Colorant=RGB(1, 0, 0))\n",
    "    new_mask = falses(mask);\n",
    "    new_image = copy(image);\n",
    "    R = CartesianRange(size(mask));\n",
    "    f, l = first(R), last(R);\n",
    "    for I in R\n",
    "        if mask[I]\n",
    "            for J in CartesianRange(I - 1, I + 1)\n",
    "                dist = sqrt(sum((SVector(I.I) - SVector(J.I)) .^ 2));\n",
    "                if dist == 1\n",
    "                    new_mask[min(max(f, J), l)] = true\n",
    "                end\n",
    "            end\n",
    "        end\n",
    "    end\n",
    "    \n",
    "    new_image[new_mask] = c;\n",
    "    return new_image;\n",
    "end"
   ]
  },
  {
   "cell_type": "code",
   "execution_count": null,
   "metadata": {
    "collapsed": true
   },
   "outputs": [],
   "source": [
    "draw_circles(img1, features_1)"
   ]
  }
 ],
 "metadata": {
  "kernelspec": {
   "display_name": "Julia 0.5.0",
   "language": "julia",
   "name": "julia-0.5"
  },
  "language_info": {
   "file_extension": ".jl",
   "mimetype": "application/julia",
   "name": "julia",
   "version": "0.5.0"
  }
 },
 "nbformat": 4,
 "nbformat_minor": 2
}
